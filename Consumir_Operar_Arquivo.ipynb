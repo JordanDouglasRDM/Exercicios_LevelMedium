{
  "cells": [
    {
      "cell_type": "markdown",
      "metadata": {
        "id": "view-in-github",
        "colab_type": "text"
      },
      "source": [
        "<a href=\"https://colab.research.google.com/github/JordanDouglasRDM/Exercicios_LevelMedium/blob/main/Consumir_Operar_Arquivo.ipynb\" target=\"_parent\"><img src=\"https://colab.research.google.com/assets/colab-badge.svg\" alt=\"Open In Colab\"/></a>"
      ]
    },
    {
      "cell_type": "code",
      "execution_count": null,
      "metadata": {
        "id": "eEB_xybvCEfq"
      },
      "outputs": [],
      "source": [
        "# GERENCIAMENTO DE FUNCIONÁRIOS COM ARQUIVO\n",
        "class TipoFuncionario: \n",
        "    matricula = 0\n",
        "    nome = ''\n",
        "    salario = 0.0\n",
        "\n",
        "def Cadastrar(vetFuncionario):\n",
        "    arquivo = open('arq_Funcionario.txt', 'w')#criando arquivo e reescrevendo se já existe\n",
        "    print('\\nCadastro de Funcionários.........................')#título\n",
        "    for i in range(3):\n",
        "        f = TipoFuncionario()\n",
        "        f.matricula = int(input('Digite a matrícula: '))\n",
        "        f.nome = input('Digite o nome: ')\n",
        "        f.salario = float(input('Digite o salário: '))\n",
        "        #vetFuncionario.append(f) # \n",
        "        arquivo.write(f'{f.matricula};{f.nome};{f.salario:.2f}\\n')\n",
        "        #ou\n",
        "        #arquivo.write('%d %s %.2f\\n' % (f.matricula, f.nome, f.salario))\n",
        "    arquivo.close()\n",
        "    return vetFuncionario\n",
        "\n",
        "def Mostrar():\n",
        "    arquivo = open('arq_Funcionario.txt', 'r')\n",
        "    print('\\nApresentação dos dados dos funcionários .........')\n",
        "    print('Matrícula\\tNome\\tSalário')\n",
        "    for linha in arquivo.readlines():\n",
        "        mat, nome, sal = linha.split(';')\n",
        "        print(mat,'\\t\\t',nome,'\\t',sal)\n",
        "    arquivo.close()\n",
        "\n",
        "def main():\n",
        "    op = 1\n",
        "    while op >=1 and op <= 2:\n",
        "        print('\\n*** Gerenciamento de Funcionários COM ARQUIVO ***')\n",
        "        print('1- Cadastrar')\n",
        "        print('2- Mostrar')\n",
        "        print('3- Sair')\n",
        "        op = int(input('Digite a opção: '))\n",
        "        if op == 1:\n",
        "            vetF=[]\n",
        "            vetF = Cadastrar(vetF)\n",
        "        elif op == 2:\n",
        "            Mostrar()            \n",
        "\n",
        "main()"
      ]
    },
    {
      "cell_type": "markdown",
      "metadata": {
        "id": "skN-Wz61xZzi"
      },
      "source": [
        "### 1. Elabore uma estrutura para representar e armazenar 10 fornecedores (código, nome, endereco). Utilize os recursos de arquivo para armazenar estes dados permanentemente. O nome do arquivo deve ser o mesmo da estrutura. Construa um menu com as seguintes opções, cada uma delas deve ter uma função e a main para chamar todas elas.\n",
        "\n",
        "Menu de opções:\n",
        "1. Cadastrar fornecedores\n",
        "2. Visualizar todos os dados\n",
        "3. Sair\n"
      ]
    },
    {
      "cell_type": "code",
      "execution_count": null,
      "metadata": {
        "id": "Wbjafj_QxWP-"
      },
      "outputs": [],
      "source": [
        "class Fornecedores:\n",
        "    codigo = 0\n",
        "    nome = ''\n",
        "    endereco = ''\n",
        "def cadastro():\n",
        "    novoFornecedor = Fornecedores()\n",
        "    novoFornecedor.codigo = int(input('Informe o código do fornecedor: '))\n",
        "    novoFornecedor.nome = input('Informe o nome do fornecedor: ')\n",
        "    novoFornecedor.endereco = input('Informe o endereço do fornecedor: ')\n",
        "    dadosFornecedores = open('Fornecedores.txt','a')\n",
        "    dadosFornecedores.write(f'{novoFornecedor.codigo};{novoFornecedor.nome};{novoFornecedor.endereco}\\n')\n",
        "    dadosFornecedores.close\n",
        "def mostraDados():\n",
        "    dadosFornecedor = open('Fornecedores.txt','r')\n",
        "    print('\\n_____________Fornecedores_____________')\n",
        "    for i in dadosFornecedor.readlines():\n",
        "        cod, name, endereco = i.strip().split(';')\n",
        "        print(f'\\nCódigo....{cod}')\n",
        "        print(f'Nome......{name}')\n",
        "        print(f'Endereço..{endereco}\\n')\n",
        "    dadosFornecedor.close\n",
        "def main():\n",
        "    validacao = True\n",
        "    while validacao == True:\n",
        "        print('\\nMenu de opções: ')\n",
        "        print('1.Cadastrar Fornecedores')\n",
        "        print('2.Vizualisar todos os dados')\n",
        "        print('3.Sair\\n')\n",
        "        opcoes = int(input('Informe a opção desejada: '))\n",
        "        if opcoes == 1:\n",
        "            cadastro()\n",
        "        elif opcoes == 2:\n",
        "            mostraDados()\n",
        "        elif opcoes == 3:\n",
        "            validacao = False\n",
        "main()"
      ]
    },
    {
      "cell_type": "markdown",
      "metadata": {
        "id": "0jPoba3-yLnG"
      },
      "source": [
        "### 2. Elabore uma estrutura para representar e armazenar 10 produtos (código, nome, preço). Utilize os recursos de arquivo para armazenar estes dados permanentemente. O nome do arquivo deve ser o mesmo da estrutura. Construa um menu com as seguintes opções, cada uma delas deve ter uma função e a main para chamar todas elas.\n",
        "\n",
        "Menu de opções:\n",
        "1. Cadastrar produtos\n",
        "2. Visualizar todos os dados\n",
        "3. Sair"
      ]
    },
    {
      "cell_type": "code",
      "execution_count": null,
      "metadata": {
        "id": "U--JD-UVAZ_4"
      },
      "outputs": [],
      "source": [
        "class Produtos:\n",
        "    cod = 0\n",
        "    nome = ''\n",
        "    preco = 0.0\n",
        "def cadastro():\n",
        "    database = open('Produtos.txt', 'a')\n",
        "    novoProduto = Produtos()\n",
        "    novoProduto.cod = int(input('Informe o codigo do produto: '))\n",
        "    novoProduto.nome = input('Informe o nome do produto: ')\n",
        "    novoProduto.preco = float(input('Informe o preço do produto: '))\n",
        "    database.write(f'{novoProduto.cod};{novoProduto.nome};{novoProduto.preco}\\n')\n",
        "    database.close\n",
        "def vizualizar():\n",
        "    database_read = open('Produtos.txt','r')\n",
        "    print('\\n....Produtos....')\n",
        "    for dado in database_read.readlines():\n",
        "        cod, nome, preco = dado.split(';')\n",
        "        print(f'\\nCodigo produto....{cod}')\n",
        "        print(f'Nome produto......{nome}')\n",
        "        print(f'Preço produto.....R${preco}')\n",
        "    database_read.close\n",
        "def main():\n",
        "    validacao = True\n",
        "    while validacao == True:\n",
        "        print('\\nMenu de opções: ')\n",
        "        print('1.Cadastrar Produtos')\n",
        "        print('2.Vizualisar todos os dados')\n",
        "        print('3.Sair\\n')\n",
        "        opcoes = int(input('Informe a opção desejada: '))\n",
        "        if opcoes == 1:\n",
        "            cadastro()\n",
        "        elif opcoes == 2:\n",
        "            vizualizar()\n",
        "        elif opcoes == 3:\n",
        "            validacao = False\n",
        "main()"
      ]
    },
    {
      "cell_type": "markdown",
      "metadata": {
        "id": "7qLNzo1C_7K5"
      },
      "source": [
        "### 3. Elabore uma estrutura para representar e armazenar 10 alunos (matricula, nome, telefone). Utilize os recursos de arquivo para armazenar estes dados permanentemente. O nome do arquivo deve ser o mesmo da estrutura. Construa um menu com as seguintes opções, cada uma delas deve ter uma função e a main para chamar todas elas.\n",
        "\n",
        "Menu de opções:\n",
        "1. Cadastrar alunos\n",
        "2. Visualizar todos os dados\n",
        "3. Sair\n"
      ]
    },
    {
      "cell_type": "code",
      "execution_count": null,
      "metadata": {
        "id": "UHD2oMlJyLzc",
        "colab": {
          "base_uri": "https://localhost:8080/"
        },
        "outputId": "a6634679-33d7-459d-e23e-4c5a925dc512"
      },
      "outputs": [
        {
          "name": "stdout",
          "output_type": "stream",
          "text": [
            "\n",
            "Menu de opções: \n",
            "1.Cadastrar alunos\n",
            "2.Vizualisar todos os dados\n",
            "3.Sair\n",
            "\n",
            "Informe a opção desejada: 2\n",
            "\n",
            "....Alunos....\n",
            "\n",
            "Matricula....1050\n",
            "Nome.........jordan\n",
            "Número......997\n",
            "\n",
            "\n",
            "Matricula....1060\n",
            "Nome.........amanda\n",
            "Número......988\n",
            "\n",
            "\n",
            "Matricula....1070\n",
            "Nome.........ingrid\n",
            "Número......996\n",
            "\n",
            "\n",
            "Menu de opções: \n",
            "1.Cadastrar alunos\n",
            "2.Vizualisar todos os dados\n",
            "3.Sair\n",
            "\n",
            "Informe a opção desejada: 3\n"
          ]
        }
      ],
      "source": [
        "quantidadeAlunos = 3\n",
        "class Alunos:\n",
        "    matricula = 0\n",
        "    nome = ''\n",
        "    telefone = 0\n",
        "def cadastro():\n",
        "    database = open('Alunos.txt', 'a')\n",
        "    for i in range(quantidadeAlunos):\n",
        "        novoAluno = Alunos()\n",
        "        novoAluno.matricula = int(input(f'Matrícula do {i+1}° aluno: '))\n",
        "        novoAluno.nome = input(f'Nome do {i+1}° aluno: ')\n",
        "        novoAluno.numero = int(input(f'Número do {i+1}° aluno: '))\n",
        "        database.write(f'{novoAluno.matricula};{novoAluno.nome};{novoAluno.numero}\\n')\n",
        "    database.close\n",
        "def vizualizar():\n",
        "    database_read = open('Alunos.txt','r')\n",
        "    print('\\n....Alunos....')\n",
        "    for dado in database_read.readlines():\n",
        "        matricula, nome, numero = dado.split(';')\n",
        "        print(f'\\nMatricula....{matricula}')\n",
        "        print(f'Nome.........{nome}')\n",
        "        print(f'Número......{numero}')\n",
        "    database_read.close\n",
        "def main():\n",
        "    validacao = True\n",
        "    while validacao == True:\n",
        "        print('\\nMenu de opções: ')\n",
        "        print('1.Cadastrar alunos')\n",
        "        print('2.Vizualisar todos os dados')\n",
        "        print('3.Sair\\n')\n",
        "        opcoes = int(input('Informe a opção desejada: '))\n",
        "        if opcoes == 1:\n",
        "            cadastro()\n",
        "        elif opcoes == 2:\n",
        "            vizualizar()\n",
        "        elif opcoes == 3:\n",
        "            validacao = False\n",
        "main()"
      ]
    },
    {
      "cell_type": "markdown",
      "metadata": {
        "id": "4zGuLRRXt0D_"
      },
      "source": [
        "### 4. Baixe o arquivo futebol.txt que esta na pasta Material do aula do Teams. Leia este arquivo e o apresente. Com os dados lidos, armazene na estrutura Futebol (posicao_jogo, altura, peso, imc), calcule o IMC (Índice de Massa Corporal), armazene na estrutura e também em outro arquivo, mas agora chamado futebol_imc.txt. Apresente este novo arquivo. \n",
        "Observação: esse exercício deve ser carregado o arquivo futebol.txt, aqui no Colab, no menu (ícone pasta) do lado esquerdo, que estará disponível no Classroom."
      ]
    },
    {
      "cell_type": "code",
      "execution_count": null,
      "metadata": {
        "id": "nU0x1v2Vt1-w",
        "colab": {
          "base_uri": "https://localhost:8080/"
        },
        "outputId": "cbb42b2e-4563-4414-b95f-3c829cdc1fe6"
      },
      "outputs": [
        {
          "output_type": "stream",
          "name": "stdout",
          "text": [
            "POSIÇÃO\t\tALTURA\tPESO\tIMC\n",
            "\n",
            "Zagueiro  \t1.79\t78.0\t24.343809494085704\n",
            "Zagueiro  \t1.78\t85.0\t26.82742078020452\n",
            "Meio campo\t1.75\t71.1\t23.216326530612243\n",
            "Meio campo\t1.81\t73.5\t22.435212600347974\n",
            "Meio campo\t1.75\t73.5\t24.0 \n",
            "Goleiro   \t1.85\t81.0\t23.66691015339664\n",
            "Atacante  \t1.87\t81.7\t23.36355057336498\n",
            "Atacante  \t1.65\t55.5\t20.38567493112948\n",
            "Atacante  \t1.78\t77.9\t24.58654210326979\n",
            "Lateral   \t1.7\t66.0\t22.837370242214536\n",
            "Lateral   \t1.74\t63.7\t21.039767472585545\n"
          ]
        }
      ],
      "source": [
        "dadosFutebol = []\n",
        "class Futebol:\n",
        "    posicao_jogo = ''\n",
        "    altura = 0.0\n",
        "    peso = 0.0\n",
        "    imc = 0.0\n",
        "def lerArquivo():\n",
        "    arquivo = open('Futebol.txt','r')\n",
        "    for linha in arquivo.readlines():\n",
        "        posicao, altura, peso = linha.split(',')\n",
        "        novoFutebol = Futebol()\n",
        "        novoFutebol.posicao_jogo = posicao\n",
        "        novoFutebol.altura = float(altura)\n",
        "        novoFutebol.peso = float(peso)\n",
        "        novoFutebol.imc = calcular_imc(novoFutebol.peso,novoFutebol.altura)\n",
        "        dadosFutebol.append(novoFutebol)\n",
        "    arquivo.close\n",
        "def escreverNovoArquivo():\n",
        "    novoArquivo = open('futebol_imc.txt','w')\n",
        "    for i in range(len(dadosFutebol)):\n",
        "        novoArquivo.write(f'{dadosFutebol[i].posicao_jogo},{dadosFutebol[i].altura},{dadosFutebol[i].peso},{dadosFutebol[i].imc}\\n')\n",
        "    novoArquivo.close\n",
        "def visualizarNovoArquivo():\n",
        "    novoArquivo = open('futebol_imc.txt','r')\n",
        "    print('POSIÇÃO\\t\\tALTURA\\tPESO\\tIMC\\n')\n",
        "    for linha in novoArquivo.readlines():\n",
        "        posi, alt, peso, imc = linha.strip().split(',')\n",
        "        alt, peso, imc = float(alt), float(peso), float(imc)\n",
        "        print(f'{posi:<10}\\t{alt:<2}\\t{peso:<3}\\t{imc:<5}')\n",
        "    novoArquivo.close\n",
        "def calcular_imc(peso, altura):\n",
        "    result = peso / (altura * altura)\n",
        "    return result\n",
        "def main():\n",
        "    lerArquivo()\n",
        "    escreverNovoArquivo()\n",
        "    visualizarNovoArquivo()\n",
        "main()"
      ]
    }
  ],
  "metadata": {
    "colab": {
      "provenance": [],
      "include_colab_link": true
    },
    "kernelspec": {
      "display_name": "Python 3",
      "name": "python3"
    }
  },
  "nbformat": 4,
  "nbformat_minor": 0
}